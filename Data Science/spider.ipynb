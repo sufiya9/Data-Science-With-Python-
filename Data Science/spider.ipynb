{
 "cells": [
  {
   "cell_type": "code",
   "execution_count": 1,
   "metadata": {},
   "outputs": [],
   "source": [
    "from dputils import scrape"
   ]
  },
  {
   "cell_type": "code",
   "execution_count": 2,
   "metadata": {},
   "outputs": [],
   "source": [
    "soup =scrape.get_webpage_data(\"https://www.ndtv.com/latest\")"
   ]
  },
  {
   "cell_type": "code",
   "execution_count": 3,
   "metadata": {},
   "outputs": [],
   "source": [
    "t = {'tag':'div','attrs': {'class':'lisingNews'}}\n",
    "items = {'tag': \"div\",'attrs':{'class': 'news_Itm'}}\n",
    "title={\"tag\":'h2',\"attrs\" : {\"class\" : 'newsHdng'}}\n",
    "deet={'tag': 'span',\"attrs\":{\"class\" : 'posted-by'}}\n",
    "summary={'tag': 'p',\"attrs\":{\"class\" : 'newsCont'}}"
   ]
  },
  {
   "cell_type": "code",
   "execution_count": 4,
   "metadata": {},
   "outputs": [
    {
     "name": "stdout",
     "output_type": "stream",
     "text": [
      "17 items found\n",
      "Item skipped at index: 3\n",
      "Item skipped at index: 7\n",
      "All items extracted\n",
      "[{'title': '17 Accused Of Killing Jammu And Kashmir Cop Granted Bail By Anti-Terror Agency Court'}, {'title': 'Chhattisgarh Man Denied Bowl, Spoon At Samosa Shop; Calls CM Helpline'}, {'title': 'Onam 2022: Malaika Arora Enjoys Traditional Onam Sadhya - See Pic'}, {'title': 'Haryana Man, 102, Dead On Records, Protests As Government Stops Pension'}, {'title': 'Haircare: Dr. Jaishree Sharad Debunks 4 Most Common Myths About Shampooing'}, {'title': 'iQoo Z6 Lite 5G Confirmed to Feature 5,000mAh Battery, 50-Megapixel Rear Camera Ahead of Launch: All Details'}, {'title': 'Ranbir Kapoor On Shamshera: \"If A Film Doesn\\'t Work, It\\'s Because Content Is Not Good\"'}, {'title': 'Prepare Cupcake At Home Without An Oven With This Easy Recipe'}, {'title': \"Donald Trump's Ex-Advisor To Face Fraud Charges In US-Mexico Border Wall Case\"}, {'title': \"Deepak Chahar Replaces Avesh Khan In India's Asia Cup Squad\"}, {'title': 'PS5 Revised: Sony Quietly Updated PlayStation 5 From the Inside, Teardown Reveals'}, {'title': 'Apple Fitness+ Will Soon Work on iPhone Without an Apple Watch, to Be Available in 21 Countries Later This Year'}, {'title': 'Relish Authentic Singaporean Cuisine At The Singapore Food Festival In Delhi'}, {'title': \"Exporters Shouldn't Rush To Hedge Non-Dollar Exposure: Report\"}, {'title': 'India vs Afghanistan, Live Streaming: When And Where To Watch Live Telecast, Live Score'}]\n"
     ]
    }
   ],
   "source": [
    "result=scrape.extract_many(soup,target=t,items=items,title=title)\n",
    "from pprint import pprint\n",
    "print(result)"
   ]
  }
 ],
 "metadata": {
  "kernelspec": {
   "display_name": "Python 3.9.13 ('base')",
   "language": "python",
   "name": "python3"
  },
  "language_info": {
   "codemirror_mode": {
    "name": "ipython",
    "version": 3
   },
   "file_extension": ".py",
   "mimetype": "text/x-python",
   "name": "python",
   "nbconvert_exporter": "python",
   "pygments_lexer": "ipython3",
   "version": "3.9.13"
  },
  "orig_nbformat": 4,
  "vscode": {
   "interpreter": {
    "hash": "1c68efc97ce35214dc910da5f9efbb387378928b88dfd21eed768d0bbb6c5fe9"
   }
  }
 },
 "nbformat": 4,
 "nbformat_minor": 2
}
