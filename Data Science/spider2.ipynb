{
 "cells": [
  {
   "cell_type": "code",
   "execution_count": 1,
   "metadata": {},
   "outputs": [],
   "source": [
    "from dputils.scrape import extract_many, get_webpage_data"
   ]
  },
  {
   "cell_type": "code",
   "execution_count": 2,
   "metadata": {},
   "outputs": [],
   "source": [
    "url = \"https://www.flipkart.com/search?q=mobiles&otracker=search&otracker1=search&marketplace=FLIPKART&as-show=on&as=off\"\n",
    "soup = get_webpage_data(url)"
   ]
  },
  {
   "cell_type": "code",
   "execution_count": 4,
   "metadata": {},
   "outputs": [],
   "source": [
    "target = {\n",
    "'tag': 'div',\n",
    "'attrs':{'class':'_1YokD2 _3Mn1Gg'}\n",
    "}\n",
    "items = {\n",
    "    'tag': 'div',\n",
    "    'attrs':{'class':'_1AtVbE col-12-12'}\n",
    "}\n",
    "title = {\n",
    "    'tag': 'div',\n",
    "    'attrs':{'class':'_4rR01T'}\n",
    "}\n",
    "price = {\n",
    "    'tag': 'div',\n",
    "    'attrs':{'class':'_30jeq3 _1_WHN1'}\n",
    "}\n",
    "rating = {\n",
    "    'tag': 'div',\n",
    "    'attrs':{'class':'_3LWZlK'}\n",
    "}\n",
    "link = {\n",
    "    'tag': 'a',\n",
    "    'attrs':{'class':'_1fQZEK'},\n",
    "    'output':'href'\n",
    "}"
   ]
  },
  {
   "cell_type": "code",
   "execution_count": 5,
   "metadata": {},
   "outputs": [
    {
     "name": "stdout",
     "output_type": "stream",
     "text": [
      "26 items found\n",
      "Item skipped at index: 24\n",
      "Item skipped at index: 25\n",
      "All items extracted\n"
     ]
    }
   ],
   "source": [
    "out=extract_many(soup, target=target, items=items, title=title, price=price, rating=rating, link=link)"
   ]
  },
  {
   "cell_type": "code",
   "execution_count": 6,
   "metadata": {},
   "outputs": [
    {
     "name": "stdout",
     "output_type": "stream",
     "text": [
      "[{'title': 'SAMSUNG Galaxy F22 (Denim Black, 64 GB)', 'price': '₹10,499', 'rating': '4.3', 'link': '/samsung-galaxy-f22-denim-black-64-gb/p/itm6f47a19cb79ae?pid=MOBG43UGC3PYCBZF&lid=LSTMOBG43UGC3PYCBZFSIRYTE&marketplace=FLIPKART&q=mobiles&store=tyy%2F4io&srno=s_1_1&otracker=search&otracker1=search&fm=organic&iid=2d8d0714-1941-4471-ab26-aa5b9803491a.MOBG43UGC3PYCBZF.SEARCH&ppt=None&ppn=None&ssid=bofuy2xm9s0000001662723544002&qH=eb4af0bf07c16429'}, {'title': 'SAMSUNG Galaxy F22 (Denim Blue, 64 GB)', 'price': '₹10,499', 'rating': '4.3', 'link': '/samsung-galaxy-f22-denim-blue-64-gb/p/itmce0a6baf0d54d?pid=MOBG43UGBTGGB99V&lid=LSTMOBG43UGBTGGB99VLZACSD&marketplace=FLIPKART&q=mobiles&store=tyy%2F4io&srno=s_1_2&otracker=search&otracker1=search&fm=organic&iid=2d8d0714-1941-4471-ab26-aa5b9803491a.MOBG43UGBTGGB99V.SEARCH&ppt=None&ppn=None&ssid=bofuy2xm9s0000001662723544002&qH=eb4af0bf07c16429'}, {'title': 'realme C31 (Light Silver, 32 GB)', 'price': '₹8,299', 'rating': '4.6', 'link': '/realme-c31-light-silver-32-gb/p/itme0f2960da9bbb?pid=MOBGCGVA3DANQNQH&lid=LSTMOBGCGVA3DANQNQHVUTE0C&marketplace=FLIPKART&q=mobiles&store=tyy%2F4io&srno=s_1_3&otracker=search&otracker1=search&fm=organic&iid=2d8d0714-1941-4471-ab26-aa5b9803491a.MOBGCGVA3DANQNQH.SEARCH&ppt=None&ppn=None&ssid=bofuy2xm9s0000001662723544002&qH=eb4af0bf07c16429'}, {'title': 'SAMSUNG Galaxy F22 (Denim Blue, 128 GB)', 'price': '₹12,499', 'rating': '4.3', 'link': '/samsung-galaxy-f22-denim-blue-128-gb/p/itm30c755943bea0?pid=MOBG43UGRSMJXTMH&lid=LSTMOBG43UGRSMJXTMH8AUDHE&marketplace=FLIPKART&q=mobiles&store=tyy%2F4io&srno=s_1_4&otracker=search&otracker1=search&fm=organic&iid=2d8d0714-1941-4471-ab26-aa5b9803491a.MOBG43UGRSMJXTMH.SEARCH&ppt=None&ppn=None&ssid=bofuy2xm9s0000001662723544002&qH=eb4af0bf07c16429'}, {'title': 'realme Narzo 50A (Oxygen Blue, 64 GB)', 'price': '₹10,499', 'rating': '4.4', 'link': '/realme-narzo-50a-oxygen-blue-64-gb/p/itm81d679403c2b4?pid=MOBG6MY4UGGFQWYY&lid=LSTMOBG6MY4UGGFQWYYNSGSOP&marketplace=FLIPKART&q=mobiles&store=tyy%2F4io&srno=s_1_5&otracker=search&otracker1=search&fm=organic&iid=2d8d0714-1941-4471-ab26-aa5b9803491a.MOBG6MY4UGGFQWYY.SEARCH&ppt=None&ppn=None&ssid=bofuy2xm9s0000001662723544002&qH=eb4af0bf07c16429'}, {'title': 'Nokia 105 SS', 'price': '₹1,299', 'rating': '4.1', 'link': '/nokia-105-ss/p/itm9ac157d27f741?pid=MOBGC96FVTHVNXNH&lid=LSTMOBGC96FVTHVNXNHGPCV73&marketplace=FLIPKART&q=mobiles&store=tyy%2F4io&srno=s_1_6&otracker=search&otracker1=search&fm=organic&iid=2d8d0714-1941-4471-ab26-aa5b9803491a.MOBGC96FVTHVNXNH.SEARCH&ppt=None&ppn=None&ssid=bofuy2xm9s0000001662723544002&qH=eb4af0bf07c16429'}, {'title': 'realme C31 (Dark Green, 64 GB)', 'price': '₹9,499', 'rating': '4.4', 'link': '/realme-c31-dark-green-64-gb/p/itme0f2960da9bbb?pid=MOBGCGVAZXRCZJNE&lid=LSTMOBGCGVAZXRCZJNENAINFL&marketplace=FLIPKART&q=mobiles&store=tyy%2F4io&srno=s_1_7&otracker=search&otracker1=search&fm=organic&iid=2d8d0714-1941-4471-ab26-aa5b9803491a.MOBGCGVAZXRCZJNE.SEARCH&ppt=None&ppn=None&ssid=bofuy2xm9s0000001662723544002&qH=eb4af0bf07c16429'}, {'title': 'realme Narzo 50A (Oxygen Green, 64 GB)', 'price': '₹10,499', 'rating': '4.4', 'link': '/realme-narzo-50a-oxygen-green-64-gb/p/itm81d679403c2b4?pid=MOBG6MY4X6JDZMGG&lid=LSTMOBG6MY4X6JDZMGGGKYEYU&marketplace=FLIPKART&q=mobiles&store=tyy%2F4io&srno=s_1_8&otracker=search&otracker1=search&fm=organic&iid=2d8d0714-1941-4471-ab26-aa5b9803491a.MOBG6MY4X6JDZMGG.SEARCH&ppt=None&ppn=None&ssid=bofuy2xm9s0000001662723544002&qH=eb4af0bf07c16429'}, {'title': 'realme C30 (Bamboo Green, 32 GB)', 'price': '₹7,999', 'rating': '4.1', 'link': '/realme-c30-bamboo-green-32-gb/p/itmfcf69b2db5059?pid=MOBGF37GUWGZQYGR&lid=LSTMOBGF37GUWGZQYGRW97HI6&marketplace=FLIPKART&q=mobiles&store=tyy%2F4io&srno=s_1_9&otracker=search&otracker1=search&fm=organic&iid=2d8d0714-1941-4471-ab26-aa5b9803491a.MOBGF37GUWGZQYGR.SEARCH&ppt=None&ppn=None&ssid=bofuy2xm9s0000001662723544002&qH=eb4af0bf07c16429'}, {'title': 'realme C30 (Lake Blue, 32 GB)', 'price': '₹6,799', 'rating': '4.4', 'link': '/realme-c30-lake-blue-32-gb/p/itmfcf69b2db5059?pid=MOBGF37GTRVMRJVK&lid=LSTMOBGF37GTRVMRJVKRYAJNG&marketplace=FLIPKART&q=mobiles&store=tyy%2F4io&srno=s_1_10&otracker=search&otracker1=search&fm=organic&iid=2d8d0714-1941-4471-ab26-aa5b9803491a.MOBGF37GTRVMRJVK.SEARCH&ppt=None&ppn=None&ssid=bofuy2xm9s0000001662723544002&qH=eb4af0bf07c16429'}, {'title': 'SAMSUNG Galaxy F22 (Denim Black, 128 GB)', 'price': '₹12,499', 'rating': '4.3', 'link': '/samsung-galaxy-f22-denim-black-128-gb/p/itm9f921a1b4f96c?pid=MOBG43UGFGYU4K4B&lid=LSTMOBG43UGFGYU4K4B0FR1R0&marketplace=FLIPKART&q=mobiles&store=tyy%2F4io&srno=s_1_11&otracker=search&otracker1=search&fm=organic&iid=2d8d0714-1941-4471-ab26-aa5b9803491a.MOBG43UGFGYU4K4B.SEARCH&ppt=None&ppn=None&ssid=bofuy2xm9s0000001662723544002&qH=eb4af0bf07c16429'}, {'title': 'realme 9 5G (Meteor Black, 64 GB)', 'price': '₹15,999', 'rating': '4.5', 'link': '/realme-9-5g-meteor-black-64-gb/p/itm4f3814d50ff53?pid=MOBGC2Q5TGTGRBHR&lid=LSTMOBGC2Q5TGTGRBHRNIVGPU&marketplace=FLIPKART&q=mobiles&store=tyy%2F4io&srno=s_1_12&otracker=search&otracker1=search&fm=organic&iid=2d8d0714-1941-4471-ab26-aa5b9803491a.MOBGC2Q5TGTGRBHR.SEARCH&ppt=None&ppn=None&ssid=bofuy2xm9s0000001662723544002&qH=eb4af0bf07c16429'}, {'title': 'realme 9 5G (Meteor Black, 128 GB)', 'price': '₹15,999', 'rating': '4.4', 'link': '/realme-9-5g-meteor-black-128-gb/p/itm4f3814d50ff53?pid=MOBGC2Q58FGNXWSN&lid=LSTMOBGC2Q58FGNXWSNJ3ERYV&marketplace=FLIPKART&q=mobiles&store=tyy%2F4io&srno=s_1_13&otracker=search&otracker1=search&fm=organic&iid=2d8d0714-1941-4471-ab26-aa5b9803491a.MOBGC2Q58FGNXWSN.SEARCH&ppt=None&ppn=None&ssid=bofuy2xm9s0000001662723544002&qH=eb4af0bf07c16429'}, {'title': 'vivo T1X (Gravity Black, 64 GB)', 'price': '₹11,999', 'rating': '4.5', 'link': '/vivo-t1x-gravity-black-64-gb/p/itm9e8207e7825a9?pid=MOBGG56ZMXMNUCYF&lid=LSTMOBGG56ZMXMNUCYFQ5HT8S&marketplace=FLIPKART&q=mobiles&store=tyy%2F4io&srno=s_1_14&otracker=search&otracker1=search&fm=organic&iid=2d8d0714-1941-4471-ab26-aa5b9803491a.MOBGG56ZMXMNUCYF.SEARCH&ppt=None&ppn=None&ssid=bofuy2xm9s0000001662723544002&qH=eb4af0bf07c16429'}, {'title': 'Infinix Hot 11S (Polar Black, 64 GB)', 'price': '₹10,999', 'rating': '4.3', 'link': '/infinix-hot-11s-polar-black-64-gb/p/itmb8753dc90027c?pid=MOBG6HS6WWJR2HZB&lid=LSTMOBG6HS6WWJR2HZBZOQV6Y&marketplace=FLIPKART&q=mobiles&store=tyy%2F4io&srno=s_1_15&otracker=search&otracker1=search&fm=organic&iid=2d8d0714-1941-4471-ab26-aa5b9803491a.MOBG6HS6WWJR2HZB.SEARCH&ppt=None&ppn=None&ssid=bofuy2xm9s0000001662723544002&qH=eb4af0bf07c16429'}, {'title': 'vivo T1X (Space Blue, 64 GB)', 'price': '₹11,999', 'rating': '4.5', 'link': '/vivo-t1x-space-blue-64-gb/p/itm9e8207e7825a9?pid=MOBGG56ZFNPMHBWE&lid=LSTMOBGG56ZFNPMHBWEB8Y2U5&marketplace=FLIPKART&q=mobiles&store=tyy%2F4io&srno=s_1_16&otracker=search&otracker1=search&fm=organic&iid=2d8d0714-1941-4471-ab26-aa5b9803491a.MOBGG56ZFNPMHBWE.SEARCH&ppt=None&ppn=None&ssid=bofuy2xm9s0000001662723544002&qH=eb4af0bf07c16429'}, {'title': 'vivo T1 44W (Ice Dawn, 128 GB)', 'price': '₹14,499', 'rating': '4.4', 'link': '/vivo-t1-44w-ice-dawn-128-gb/p/itm2a08ebbea3689?pid=MOBGDRHVKYHCVG7W&lid=LSTMOBGDRHVKYHCVG7WU0WEW8&marketplace=FLIPKART&q=mobiles&store=tyy%2F4io&srno=s_1_17&otracker=search&otracker1=search&fm=organic&iid=2d8d0714-1941-4471-ab26-aa5b9803491a.MOBGDRHVKYHCVG7W.SEARCH&ppt=None&ppn=None&ssid=bofuy2xm9s0000001662723544002&qH=eb4af0bf07c16429'}, {'title': 'REDMI 9i Sport (Coral Green, 64 GB)', 'price': '₹9,049', 'rating': '4.4', 'link': '/redmi-9i-sport-coral-green-64-gb/p/itmb5e8d8186b602?pid=MOBG6WQWJRFZ5WDG&lid=LSTMOBG6WQWJRFZ5WDGO4EIDO&marketplace=FLIPKART&q=mobiles&store=tyy%2F4io&srno=s_1_18&otracker=search&otracker1=search&fm=organic&iid=2d8d0714-1941-4471-ab26-aa5b9803491a.MOBG6WQWJRFZ5WDG.SEARCH&ppt=None&ppn=None&ssid=bofuy2xm9s0000001662723544002&qH=eb4af0bf07c16429'}, {'title': 'vivo T1 5G (Rainbow Fantasy, 128 GB)', 'price': '₹15,990', 'rating': '4.3', 'link': '/vivo-t1-5g-rainbow-fantasy-128-gb/p/itm594222523bd8f?pid=MOBGB9TYGW5NGXVH&lid=LSTMOBGB9TYGW5NGXVHAMNS12&marketplace=FLIPKART&q=mobiles&store=tyy%2F4io&srno=s_1_19&otracker=search&otracker1=search&fm=organic&iid=2d8d0714-1941-4471-ab26-aa5b9803491a.MOBGB9TYGW5NGXVH.SEARCH&ppt=None&ppn=None&ssid=bofuy2xm9s0000001662723544002&qH=eb4af0bf07c16429'}, {'title': 'realme Narzo 50A (Oxygen Blue, 128 GB)', 'price': '₹11,499', 'rating': '4.4', 'link': '/realme-narzo-50a-oxygen-blue-128-gb/p/itm81d679403c2b4?pid=MOBG6MY4JGHHADW8&lid=LSTMOBG6MY4JGHHADW8QUT1Q3&marketplace=FLIPKART&q=mobiles&store=tyy%2F4io&srno=s_1_20&otracker=search&otracker1=search&fm=organic&iid=2d8d0714-1941-4471-ab26-aa5b9803491a.MOBG6MY4JGHHADW8.SEARCH&ppt=None&ppn=None&ssid=bofuy2xm9s0000001662723544002&qH=eb4af0bf07c16429'}, {'title': 'vivo T1 5G (Rainbow Fantasy, 128 GB)', 'price': '₹16,990', 'rating': '4.3', 'link': '/vivo-t1-5g-rainbow-fantasy-128-gb/p/itm594222523bd8f?pid=MOBGB9TYFQR3FQZT&lid=LSTMOBGB9TYFQR3FQZTWOTIUO&marketplace=FLIPKART&q=mobiles&store=tyy%2F4io&srno=s_1_21&otracker=search&otracker1=search&fm=organic&iid=2d8d0714-1941-4471-ab26-aa5b9803491a.MOBGB9TYFQR3FQZT.SEARCH&ppt=None&ppn=None&ssid=bofuy2xm9s0000001662723544002&qH=eb4af0bf07c16429'}, {'title': 'Realme C30 - Locked with Airtel Prepaid (Lake Blue, 32 GB)', 'price': '₹6,199', 'rating': '4.4', 'link': '/realme-c30-locked-airtel-prepaid-lake-blue-32-gb/p/itm938b2a52e171f?pid=MOBGFCFQZGEUXH35&lid=LSTMOBGFCFQZGEUXH35331CCP&marketplace=FLIPKART&q=mobiles&store=tyy%2F4io&srno=s_1_22&otracker=search&otracker1=search&fm=organic&iid=2d8d0714-1941-4471-ab26-aa5b9803491a.MOBGFCFQZGEUXH35.SEARCH&ppt=None&ppn=None&ssid=bofuy2xm9s0000001662723544002&qH=eb4af0bf07c16429'}, {'title': 'realme 8i (Space Black, 64 GB)', 'price': '₹13,999', 'rating': '4.5', 'link': '/realme-8i-space-black-64-gb/p/itm7ab6edcb3b2a4?pid=MOBG63YXSVKZ5AZJ&lid=LSTMOBG63YXSVKZ5AZJSXNQS5&marketplace=FLIPKART&q=mobiles&store=tyy%2F4io&srno=s_1_23&otracker=search&otracker1=search&fm=organic&iid=2d8d0714-1941-4471-ab26-aa5b9803491a.MOBG63YXSVKZ5AZJ.SEARCH&ppt=None&ppn=None&ssid=bofuy2xm9s0000001662723544002&qH=eb4af0bf07c16429'}, {'title': 'realme C31 (Light Silver, 64 GB)', 'price': '₹9,499', 'rating': '4.4', 'link': '/realme-c31-light-silver-64-gb/p/itme0f2960da9bbb?pid=MOBGCGVAGUHQ9HNJ&lid=LSTMOBGCGVAGUHQ9HNJMCFWUX&marketplace=FLIPKART&q=mobiles&store=tyy%2F4io&srno=s_1_24&otracker=search&otracker1=search&fm=organic&iid=2d8d0714-1941-4471-ab26-aa5b9803491a.MOBGCGVAGUHQ9HNJ.SEARCH&ppt=None&ppn=None&ssid=bofuy2xm9s0000001662723544002&qH=eb4af0bf07c16429'}]\n"
     ]
    }
   ],
   "source": [
    "print(out)"
   ]
  },
  {
   "cell_type": "code",
   "execution_count": 7,
   "metadata": {},
   "outputs": [
    {
     "name": "stdout",
     "output_type": "stream",
     "text": [
      "                                                title    price rating  \\\n",
      "0             SAMSUNG Galaxy F22 (Denim Black, 64 GB)  ₹10,499    4.3   \n",
      "1              SAMSUNG Galaxy F22 (Denim Blue, 64 GB)  ₹10,499    4.3   \n",
      "2                    realme C31 (Light Silver, 32 GB)   ₹8,299    4.6   \n",
      "3             SAMSUNG Galaxy F22 (Denim Blue, 128 GB)  ₹12,499    4.3   \n",
      "4               realme Narzo 50A (Oxygen Blue, 64 GB)  ₹10,499    4.4   \n",
      "5                                        Nokia 105 SS   ₹1,299    4.1   \n",
      "6                      realme C31 (Dark Green, 64 GB)   ₹9,499    4.4   \n",
      "7              realme Narzo 50A (Oxygen Green, 64 GB)  ₹10,499    4.4   \n",
      "8                    realme C30 (Bamboo Green, 32 GB)   ₹7,999    4.1   \n",
      "9                       realme C30 (Lake Blue, 32 GB)   ₹6,799    4.4   \n",
      "10           SAMSUNG Galaxy F22 (Denim Black, 128 GB)  ₹12,499    4.3   \n",
      "11                  realme 9 5G (Meteor Black, 64 GB)  ₹15,999    4.5   \n",
      "12                 realme 9 5G (Meteor Black, 128 GB)  ₹15,999    4.4   \n",
      "13                    vivo T1X (Gravity Black, 64 GB)  ₹11,999    4.5   \n",
      "14               Infinix Hot 11S (Polar Black, 64 GB)  ₹10,999    4.3   \n",
      "15                       vivo T1X (Space Blue, 64 GB)  ₹11,999    4.5   \n",
      "16                     vivo T1 44W (Ice Dawn, 128 GB)  ₹14,499    4.4   \n",
      "17                REDMI 9i Sport (Coral Green, 64 GB)   ₹9,049    4.4   \n",
      "18               vivo T1 5G (Rainbow Fantasy, 128 GB)  ₹15,990    4.3   \n",
      "19             realme Narzo 50A (Oxygen Blue, 128 GB)  ₹11,499    4.4   \n",
      "20               vivo T1 5G (Rainbow Fantasy, 128 GB)  ₹16,990    4.3   \n",
      "21  Realme C30 - Locked with Airtel Prepaid (Lake ...   ₹6,199    4.4   \n",
      "22                     realme 8i (Space Black, 64 GB)  ₹13,999    4.5   \n",
      "23                   realme C31 (Light Silver, 64 GB)   ₹9,499    4.4   \n",
      "\n",
      "                                                 link  \n",
      "0   /samsung-galaxy-f22-denim-black-64-gb/p/itm6f4...  \n",
      "1   /samsung-galaxy-f22-denim-blue-64-gb/p/itmce0a...  \n",
      "2   /realme-c31-light-silver-32-gb/p/itme0f2960da9...  \n",
      "3   /samsung-galaxy-f22-denim-blue-128-gb/p/itm30c...  \n",
      "4   /realme-narzo-50a-oxygen-blue-64-gb/p/itm81d67...  \n",
      "5   /nokia-105-ss/p/itm9ac157d27f741?pid=MOBGC96FV...  \n",
      "6   /realme-c31-dark-green-64-gb/p/itme0f2960da9bb...  \n",
      "7   /realme-narzo-50a-oxygen-green-64-gb/p/itm81d6...  \n",
      "8   /realme-c30-bamboo-green-32-gb/p/itmfcf69b2db5...  \n",
      "9   /realme-c30-lake-blue-32-gb/p/itmfcf69b2db5059...  \n",
      "10  /samsung-galaxy-f22-denim-black-128-gb/p/itm9f...  \n",
      "11  /realme-9-5g-meteor-black-64-gb/p/itm4f3814d50...  \n",
      "12  /realme-9-5g-meteor-black-128-gb/p/itm4f3814d5...  \n",
      "13  /vivo-t1x-gravity-black-64-gb/p/itm9e8207e7825...  \n",
      "14  /infinix-hot-11s-polar-black-64-gb/p/itmb8753d...  \n",
      "15  /vivo-t1x-space-blue-64-gb/p/itm9e8207e7825a9?...  \n",
      "16  /vivo-t1-44w-ice-dawn-128-gb/p/itm2a08ebbea368...  \n",
      "17  /redmi-9i-sport-coral-green-64-gb/p/itmb5e8d81...  \n",
      "18  /vivo-t1-5g-rainbow-fantasy-128-gb/p/itm594222...  \n",
      "19  /realme-narzo-50a-oxygen-blue-128-gb/p/itm81d6...  \n",
      "20  /vivo-t1-5g-rainbow-fantasy-128-gb/p/itm594222...  \n",
      "21  /realme-c30-locked-airtel-prepaid-lake-blue-32...  \n",
      "22  /realme-8i-space-black-64-gb/p/itm7ab6edcb3b2a...  \n",
      "23  /realme-c31-light-silver-64-gb/p/itme0f2960da9...  \n"
     ]
    }
   ],
   "source": [
    "import pandas as pd\n",
    "df = pd.DataFrame(out)\n",
    "print(df)"
   ]
  }
 ],
 "metadata": {
  "kernelspec": {
   "display_name": "Python 3.9.13 ('base')",
   "language": "python",
   "name": "python3"
  },
  "language_info": {
   "codemirror_mode": {
    "name": "ipython",
    "version": 3
   },
   "file_extension": ".py",
   "mimetype": "text/x-python",
   "name": "python",
   "nbconvert_exporter": "python",
   "pygments_lexer": "ipython3",
   "version": "3.9.13"
  },
  "orig_nbformat": 4,
  "vscode": {
   "interpreter": {
    "hash": "1c68efc97ce35214dc910da5f9efbb387378928b88dfd21eed768d0bbb6c5fe9"
   }
  }
 },
 "nbformat": 4,
 "nbformat_minor": 2
}
